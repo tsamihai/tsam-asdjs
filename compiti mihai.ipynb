{
 "metadata": {
  "name": "compiti v1.0"
 },
 "nbformat": 3,
 "nbformat_minor": 0,
 "worksheets": [
  {
   "cells": [
    {
     "cell_type": "markdown",
     "metadata": {},
     "source": "Esercizio 1\n\nDato un array di interi, restituire la loro somma fino a che non viene ritrovato un valore\n\nnegativo."
    },
    {
     "cell_type": "code",
     "collapsed": false,
     "input": "function sumNeg(myarray) {\n    val = myarray[0];\n    for(i = 1; i < myarray.length; ++i) {\n        if (myarray[i] >=  0){\n            vali = myarray[i];\n            val = val + vali;\n    }\n        else{\n            return val;\n        }\n    }    \n    return val;\n}",
     "language": "python",
     "metadata": {},
     "outputs": [
      {
       "metadata": {},
       "output_type": "pyout",
       "prompt_number": 139,
       "text": "undefined"
      }
     ],
     "prompt_number": 139
    },
    {
     "cell_type": "code",
     "collapsed": false,
     "input": "a = [1,2,-2,5,-1,6];",
     "language": "python",
     "metadata": {},
     "outputs": [
      {
       "metadata": {},
       "output_type": "pyout",
       "prompt_number": 140,
       "text": "[ 1, 2, -2, 5, -1, 6 ]"
      }
     ],
     "prompt_number": 140
    },
    {
     "cell_type": "code",
     "collapsed": false,
     "input": "sumNeg(a);",
     "language": "python",
     "metadata": {},
     "outputs": [
      {
       "metadata": {},
       "output_type": "pyout",
       "prompt_number": 141,
       "text": "3"
      }
     ],
     "prompt_number": 141
    },
    {
     "cell_type": "markdown",
     "metadata": {},
     "source": "Esercizio 2\n\nDato un numero n, restituire la somma dei primi n numeri interi positivi dispari"
    },
    {
     "cell_type": "code",
     "collapsed": false,
     "input": "function buildOddArray(n) {\n    a = [];\n    for(i = 0; i < n; i++) {\n        a[i] = (2 * i) + 1;\n    }\n    return sumNeg(a);\n}",
     "language": "python",
     "metadata": {},
     "outputs": [
      {
       "metadata": {},
       "output_type": "pyout",
       "prompt_number": 199,
       "text": "undefined"
      }
     ],
     "prompt_number": 199
    },
    {
     "cell_type": "code",
     "collapsed": false,
     "input": "buildOddArray(3);",
     "language": "python",
     "metadata": {},
     "outputs": [
      {
       "metadata": {},
       "output_type": "pyout",
       "prompt_number": 200,
       "text": "9"
      }
     ],
     "prompt_number": 200
    },
    {
     "cell_type": "markdown",
     "metadata": {},
     "source": "Esercizio 3\n\nDato un array di 10 elementi, calcolarne la media"
    },
    {
     "cell_type": "code",
     "collapsed": false,
     "input": "function average(myArray){\n    sum = sumNeg(myArray);\n    average = sum/myArray.length;\n    return average;\n}",
     "language": "python",
     "metadata": {},
     "outputs": [
      {
       "metadata": {},
       "output_type": "pyout",
       "prompt_number": 197,
       "text": "undefined"
      }
     ],
     "prompt_number": 197
    },
    {
     "cell_type": "code",
     "collapsed": false,
     "input": "average([2,3,4]);",
     "language": "python",
     "metadata": {},
     "outputs": [
      {
       "metadata": {},
       "output_type": "pyout",
       "prompt_number": 198,
       "text": "3"
      }
     ],
     "prompt_number": 198
    },
    {
     "cell_type": "markdown",
     "metadata": {},
     "source": "Dato un intervallo [a, b] con a e b due interi positivi, restituire la somma di tutti i numeri\n\ncompresi all\u2019interno dell\u2019intervallo, estremi inclusi. Nel caso che b fosse minore di a,\n\ncalcolare la somma nell\u2019intervallo [b,a]\nEsempio:\n\nsumInterval(3, 5) => 12\n\nsumInterval(5, 3) => 12"
    },
    {
     "cell_type": "code",
     "collapsed": false,
     "input": "function sumInterval(a,b){\n        s = 0;\n        if (a < b){\n            for(i = a; i <= b; i++) {\n                   s = s+i;                                      \n              } \n            return s;\n        } \n        else  if(a > b){\n           {\n                for(i = b; i<= a; i++) {\n                 s = s+i; \n             } \n                return s;\n            }\n        }    \n}                          ",
     "language": "python",
     "metadata": {},
     "outputs": [
      {
       "metadata": {},
       "output_type": "pyout",
       "prompt_number": 121,
       "text": "undefined"
      }
     ],
     "prompt_number": 121
    },
    {
     "cell_type": "code",
     "collapsed": false,
     "input": "sumInterval(6,3);",
     "language": "python",
     "metadata": {},
     "outputs": [
      {
       "metadata": {},
       "output_type": "pyout",
       "prompt_number": 123,
       "text": "18"
      }
     ],
     "prompt_number": 123
    },
    {
     "cell_type": "markdown",
     "metadata": {},
     "source": "Esercizio 5\n\nSi calcoli il prodotto di due numeri a, b maggiori o uguali a zero, tramite l\u2019utilizzo del solo\n\noperatore somma."
    },
    {
     "cell_type": "code",
     "collapsed": false,
     "input": "function mult(a,b){\n         s = 0;\n         for (i = 0; i < b; i++){\n              s = s + a;\n         }       \n         return s;       \n}                   ",
     "language": "python",
     "metadata": {},
     "outputs": [
      {
       "metadata": {},
       "output_type": "pyout",
       "prompt_number": 5,
       "text": "undefined"
      }
     ],
     "prompt_number": 5
    },
    {
     "cell_type": "code",
     "collapsed": false,
     "input": "mult(2,3);",
     "language": "python",
     "metadata": {},
     "outputs": [],
     "prompt_number": "*"
    },
    {
     "cell_type": "markdown",
     "metadata": {},
     "source": "Esercizio 6\n\nSi calcoli la divisione e il resto della divisione tra due numeri a, b maggiori a zero, tramite\n\nl\u2019utilizzo dei soli operatori somma e sottrazione.\n\nEsempio:\n\ndiv(5, 3) => 1 resto 2"
    },
    {
     "cell_type": "code",
     "collapsed": false,
     "input": "function div(a,b){\n        divisone = b;  \n        resto =0;\n        dividendo = a;\n        quoziente = 0;\n       if(a <b){\n          return quoziente +'resto= ' + dividendo;   \n       } else{\n            Do{\n               dividendo=dividendo-divisore;\n               quoziente++;\n               }while (dividendo>=divisore){\n                    resto=dividendo;    \n                }\n           \n       }\n}                  ",
     "language": "python",
     "metadata": {},
     "outputs": [
      {
       "ename": "SyntaxError",
       "evalue": "Unexpected token {",
       "output_type": "pyerr",
       "traceback": [
        "SyntaxError: Unexpected token {",
        "    at run ([eval]:192:19)",
        "    at onMessage ([eval]:63:41)",
        "    at process.EventEmitter.emit (events.js:98:17)",
        "    at handleMessage (child_process.js:318:10)",
        "    at Pipe.channel.onread (child_process.js:345:11)"
       ]
      }
     ],
     "prompt_number": 1
    },
    {
     "cell_type": "code",
     "collapsed": false,
     "input": "div(2,3);",
     "language": "python",
     "metadata": {},
     "outputs": [
      {
       "ename": "ReferenceError",
       "evalue": "div is not defined",
       "output_type": "pyerr",
       "traceback": [
        "ReferenceError: div is not defined",
        "    at evalmachine.<anonymous>:1:1",
        "    at run ([eval]:192:19)",
        "    at onMessage ([eval]:63:41)",
        "    at process.EventEmitter.emit (events.js:98:17)",
        "    at handleMessage (child_process.js:318:10)",
        "    at Pipe.channel.onread (child_process.js:345:11)"
       ]
      }
     ],
     "prompt_number": 2
    },
    {
     "cell_type": "markdown",
     "metadata": {},
     "source": "Esercizio 7\n\nSi calcoli la potenza (x^y) di due numeri x y maggiori o uguali a zero, tramite l\u2019utilizzo dei soli\n\noperatori somma, sottrazione e della funzione mult.\n\nEsempio:\n\npow(2, 3) => 8"
    },
    {
     "cell_type": "code",
     "collapsed": false,
     "input": "function powa(a,b){                  \n      var s = 1;  \n      for( i = 0; i <b; i++){\n            \n          s= mult(s,a);\n          \n      }               \n      return s;        \n                   \n}      ",
     "language": "python",
     "metadata": {},
     "outputs": [
      {
       "metadata": {},
       "output_type": "pyout",
       "prompt_number": 8,
       "text": "undefined"
      }
     ],
     "prompt_number": 8
    },
    {
     "cell_type": "code",
     "collapsed": false,
     "input": "powa(2,4);",
     "language": "python",
     "metadata": {},
     "outputs": [
      {
       "metadata": {},
       "output_type": "pyout",
       "prompt_number": 9,
       "text": "16"
      }
     ],
     "prompt_number": 9
    },
    {
     "cell_type": "code",
     "collapsed": false,
     "input": "function powaR(a,b){\n    if(b==0){\n        return 1;\n     } else {\n        return mult(a,powaR(a,b-1));\n     } \n}",
     "language": "python",
     "metadata": {},
     "outputs": [
      {
       "metadata": {},
       "output_type": "pyout",
       "prompt_number": 11,
       "text": "undefined"
      }
     ],
     "prompt_number": 11
    },
    {
     "cell_type": "code",
     "collapsed": false,
     "input": "powaR(2,5);",
     "language": "python",
     "metadata": {},
     "outputs": [
      {
       "metadata": {},
       "output_type": "pyout",
       "prompt_number": 13,
       "text": "32"
      }
     ],
     "prompt_number": 13
    },
    {
     "cell_type": "markdown",
     "metadata": {},
     "source": "Esercizio 8\n\nDato un array contenente n^2 elementi, scrivere un algoritmo che permetta di inserire tutti gli\n\noggetti in un array bidimensionale n x n."
    },
    {
     "cell_type": "code",
     "collapsed": false,
     "input": "funciton matrix(t){\n       a=[];\n       conta=0;\n       for (i=0 i<t;i++){\n            for ( y = 0; y <v;y++;){\n                    a[x][y]=conta;\n                    conta++;\n            }                                  \n       }\n}    ",
     "language": "python",
     "metadata": {},
     "outputs": [
      {
       "ename": "SyntaxError",
       "evalue": "Unexpected identifier",
       "output_type": "pyerr",
       "traceback": [
        "SyntaxError: Unexpected identifier",
        "    at run ([eval]:192:19)",
        "    at onMessage ([eval]:63:41)",
        "    at process.EventEmitter.emit (events.js:98:17)",
        "    at handleMessage (child_process.js:318:10)",
        "    at Pipe.channel.onread (child_process.js:345:11)"
       ]
      }
     ],
     "prompt_number": 1
    },
    {
     "cell_type": "code",
     "collapsed": false,
     "input": "",
     "language": "python",
     "metadata": {},
     "outputs": [
      {
       "metadata": {},
       "output_type": "pyout",
       "prompt_number": 3,
       "text": "undefined"
      }
     ],
     "prompt_number": 3
    },
    {
     "cell_type": "markdown",
     "metadata": {},
     "source": "Esercizio 9\n\nDato una lista di elementi, scrivere un algoritmo che permetta di invertire l\u2019ordine degli\n\nelementi."
    },
    {
     "cell_type": "code",
     "collapsed": false,
     "input": "function ordina(myarray){\n   var x=[];\n   var y = myarray.length-1;\n   for( var i = 0; i < myarray.lenght-1;i++;) {\n            x[y]=myarray[i];\n            y= y-1;\n   }                            \n     return a = x;\n}",
     "language": "python",
     "metadata": {},
     "outputs": [
      {
       "ename": "SyntaxError",
       "evalue": "Unexpected token ;",
       "output_type": "pyerr",
       "traceback": [
        "SyntaxError: Unexpected token ;",
        "    at run ([eval]:192:19)",
        "    at onMessage ([eval]:63:41)",
        "    at process.EventEmitter.emit (events.js:98:17)",
        "    at handleMessage (child_process.js:318:10)",
        "    at Pipe.channel.onread (child_process.js:345:11)"
       ]
      }
     ],
     "prompt_number": 9
    },
    {
     "cell_type": "code",
     "collapsed": false,
     "input": "function inverti(myarray){\n        a=[];\n        for(i = 0; i < myarray.length;i++){\n              a[]=myarray[i];                         \n             a.reverse();\n        }\n        return a;\n}\ninverti([1,2,3,4]);",
     "language": "python",
     "metadata": {},
     "outputs": [
      {
       "ename": "SyntaxError",
       "evalue": "Unexpected token ]",
       "output_type": "pyerr",
       "traceback": [
        "SyntaxError: Unexpected token ]",
        "    at run ([eval]:192:19)",
        "    at onMessage ([eval]:63:41)",
        "    at process.EventEmitter.emit (events.js:98:17)",
        "    at handleMessage (child_process.js:318:10)",
        "    at Pipe.channel.onread (child_process.js:345:11)"
       ]
      }
     ],
     "prompt_number": 12
    },
    {
     "cell_type": "code",
     "collapsed": false,
     "input": "a=inverti(a);",
     "language": "python",
     "metadata": {},
     "outputs": [
      {
       "metadata": {},
       "output_type": "pyout",
       "prompt_number": 11,
       "text": "[ 4 ]"
      }
     ],
     "prompt_number": 11
    },
    {
     "cell_type": "markdown",
     "metadata": {},
     "source": "Esercizio 10\n\nDati due interi a, n maggiori di 0, scrivere un algoritmo che crea un lista di n elementi\n\ncontenenti a.\n\nEsempio:\n\nreplicate(3, 4) => A= {3, 3, 3, 3}"
    },
    {
     "cell_type": "code",
     "collapsed": false,
     "input": "function replicate (a,b){\n      a= [0];\n    for (i = 0; i < b; i++){\n            \n        }\n    return  myI;\n}\n",
     "language": "python",
     "metadata": {},
     "outputs": [
      {
       "metadata": {},
       "output_type": "pyout",
       "prompt_number": 374,
       "text": "undefined"
      }
     ],
     "prompt_number": 374
    },
    {
     "cell_type": "code",
     "collapsed": false,
     "input": "replicate(3,4);",
     "language": "python",
     "metadata": {},
     "outputs": [
      {
       "ename": "TypeError",
       "evalue": "Cannot read property 'toString' of undefined",
       "output_type": "pyerr",
       "traceback": [
        "TypeError: Cannot read property 'toString' of undefined",
        "    at replicate (evalmachine.<anonymous>:4:23)",
        "    at evalmachine.<anonymous>:1:1",
        "    at run ([eval]:192:19)",
        "    at onMessage ([eval]:63:41)",
        "    at process.EventEmitter.emit (events.js:98:17)",
        "    at handleMessage (child_process.js:318:10)",
        "    at Pipe.channel.onread (child_process.js:345:11)"
       ]
      }
     ],
     "prompt_number": 376
    },
    {
     "cell_type": "markdown",
     "metadata": {},
     "source": "11 Data una lista di interi A, si riordini gli elementi della lista in modo tale che tutti gli elementi\n\ndispari precedano nello stesso ordine tutti gli elementi pari.\n\nEsempio\n\nInput: A = {2, 5, 1, 8}\n\nOutput: A = {5, 1, 2, 8}"
    },
    {
     "cell_type": "code",
     "collapsed": false,
     "input": "function padi(myarray){\n    a= [];  pari=0;\n    b=[];  dispari=0;\n   for (i=0; i<myarray.length;i++){\n        if(myarray[i]% 2 == 0){\n             a[pari]=myarray[i]                  \n               pari++;\n         }\n        else\n            {\n              b[dispari]=myarray[i];\n              dispari++; \n            }\n    }\n   return b.concat(a);\n}                       ",
     "language": "python",
     "metadata": {},
     "outputs": [
      {
       "metadata": {},
       "output_type": "pyout",
       "prompt_number": 19,
       "text": "undefined"
      }
     ],
     "prompt_number": 19
    },
    {
     "cell_type": "code",
     "collapsed": false,
     "input": "a=[2,5,1,8];",
     "language": "python",
     "metadata": {},
     "outputs": [
      {
       "metadata": {},
       "output_type": "pyout",
       "prompt_number": 20,
       "text": "[ 2, 5, 1, 8 ]"
      }
     ],
     "prompt_number": 20
    },
    {
     "cell_type": "code",
     "collapsed": false,
     "input": "padi(a);",
     "language": "python",
     "metadata": {},
     "outputs": [
      {
       "metadata": {},
       "output_type": "pyout",
       "prompt_number": 22,
       "text": "[ 5, 1, 2, 8 ]"
      }
     ],
     "prompt_number": 22
    }
   ],
   "metadata": {}
  }
 ]
}